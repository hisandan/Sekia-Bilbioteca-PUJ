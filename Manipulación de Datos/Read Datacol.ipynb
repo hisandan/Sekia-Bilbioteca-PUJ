{
 "cells": [
  {
   "cell_type": "code",
   "execution_count": 1,
   "id": "de989f23",
   "metadata": {},
   "outputs": [],
   "source": [
    "import pandas as pd"
   ]
  },
  {
   "cell_type": "code",
   "execution_count": 43,
   "id": "cdaa087a",
   "metadata": {},
   "outputs": [],
   "source": [
    "path = \"./base/DATACOL_mini.txt\""
   ]
  },
  {
   "cell_type": "code",
   "execution_count": 44,
   "id": "ee75b516",
   "metadata": {},
   "outputs": [],
   "source": [
    "with open(path, 'r') as file:\n",
    "    lines = file.readlines()"
   ]
  },
  {
   "cell_type": "code",
   "execution_count": 5,
   "id": "d3dcb57d",
   "metadata": {},
   "outputs": [
    {
     "data": {
      "text/plain": [
       "['PT J\\n',\n",
       " 'AU Oquendo, RA\\n',\n",
       " 'AF Acevedo Oquendo, Rogelio\\n',\n",
       " 'TI Critique of Eurocentric reason through the concept of nature in Marx:\\n',\n",
       " '   sacralization of the earth and the body\\n',\n",
       " 'SO CUADERNOS DE FILOSOFIA LATINOAMERICANA\\n',\n",
       " 'LA Spanish\\n',\n",
       " 'DT Article\\n',\n",
       " 'DE Materialism; ethics; formal logic; Eurocentrism; dialectical logic;\\n',\n",
       " '   language; theological monism\\n',\n",
       " \"AB The traditional reading of Marx as a continuation of Hegel, but atheist and economic or historical determinist, falsifies the German thinker's own thinking. Alfred Schmidt and Enrique Dussel, among others, show to what extent this is an unknown Marx even in the academic circles. This ignorance is an inevitable banalization of his legacy, which hinders the pedagogical-political exercise that can inspire social progress in Latin America. Clarifying in what do these views fail allows us to find critique of Eurocentric reason, even if Marx himself was Eurocentric. Such reading is made possible by redefining these aspects usually associated with Marxism and looking to what extent it is Post-Eurocentric. It is about questioning the conceptions of history, science and nature, around the materialistic anthropology - not ontological- present in Marx's We propose to reflect on these four problematic lines around Hegel and Marx - atheism, economic and historical determinism, the idea of history and the relationship between science and nature - that are constructed in the light of Marxist materialist philosophy. From the relationships put into action there it would be possible to establish the basis of an understanding of nature -the earth and the body- beyond the bias of instrumental, ecocide, immoral and desacralizing reason. A conception that could enter into dialogue with the indigenous worldviews of the planet.\\n\",\n",
       " 'C1 [Acevedo Oquendo, Rogelio] Univ Nacl Colombia, Bogota, Colombia.\\n',\n",
       " '   [Acevedo Oquendo, Rogelio] Univ INCCA Colombia, Bogota, Colombia.\\n',\n",
       " '   [Acevedo Oquendo, Rogelio] Univ La Gran Colombia, Bogota, Colombia.\\n',\n",
       " 'C3 Universidad Nacional de Colombia; Universidad La Gran Colombia\\n',\n",
       " 'RP Oquendo, RA (corresponding author), Univ Nacl Colombia, Bogota, Colombia.; Oquendo, RA (corresponding author), Univ INCCA Colombia, Bogota, Colombia.; Oquendo, RA (corresponding author), Univ La Gran Colombia, Bogota, Colombia.\\n',\n",
       " 'EM rogelioacevedoo@gmail.com\\n',\n",
       " 'TC 0\\n',\n",
       " 'Z9 0\\n',\n",
       " 'PU UNIV SANTO TOMAS\\n',\n",
       " 'PI BOGOTA\\n',\n",
       " 'PA CR 9 NO 51-23, BOGOTA, CUND 00000, COLOMBIA\\n',\n",
       " 'SN 0120-8462\\n',\n",
       " 'EI 2500-5375\\n',\n",
       " 'J9 CUAD FILOS LATINOAM\\n',\n",
       " 'JI Cuad. Filos. Latinoam.\\n',\n",
       " 'PD JAN-JUN\\n',\n",
       " 'PY 2019\\n',\n",
       " 'VL 40\\n',\n",
       " 'IS 120\\n',\n",
       " 'BP 139\\n',\n",
       " 'EP 169\\n',\n",
       " 'PG 31\\n',\n",
       " 'WC Philosophy\\n',\n",
       " 'SC Philosophy\\n',\n",
       " 'GA JM9OX\\n',\n",
       " 'UT WOS:000496536500008\\n',\n",
       " 'DA 2022-02-17\\n',\n",
       " 'ER\\n',\n",
       " '\\n',\n",
       " 'PT J\\n',\n",
       " 'AU Diaz, JA\\n',\n",
       " '   Rojas-Claros, A\\n',\n",
       " 'AF Diaz, Jorge-Aurelio\\n',\n",
       " '   Rojas-Claros, Armando\\n',\n",
       " 'TI Religion and public reason\\n',\n",
       " 'SO HALLAZGOS-REVISTA DE INVESTIGACIONES\\n',\n",
       " 'LA Spanish\\n',\n",
       " 'DT Article\\n',\n",
       " 'DE Alwin Plantinga; Ivan Garzon; public reason; religion; politics\\n',\n",
       " \"AB This article seeks to confront Alvin Plantinga's call to Christian philosophers to assume the interests of the community to which they belong with Ivan Garzon's analysis of the place of religion in the exercise of public reason. The purpose is to examine the changes that have taken place, within liberal political thought, in relation to the place of religion in the organization of society. This raises new challenges for believers to achieve, from their religious convictions, their active participation in the organization of societies that accomplish the establishment of forms of peaceful coexistence that respect the growing cultural diversity of citizens.\\n\",\n",
       " 'C1 [Diaz, Jorge-Aurelio] Univ Nacl Colombia, Bogota, Colombia.\\n',\n",
       " '   [Diaz, Jorge-Aurelio] Univ Catolica Colombia, Fac Humanidades, Bogota, Colombia.\\n',\n",
       " '   [Rojas-Claros, Armando] Univ Catolica Colombia, Bogota, Colombia.\\n',\n",
       " 'C3 Universidad Nacional de Colombia\\n',\n",
       " 'RP Diaz, JA (corresponding author), Univ Nacl Colombia, Bogota, Colombia.; Diaz, JA (corresponding author), Univ Catolica Colombia, Fac Humanidades, Bogota, Colombia.\\n',\n",
       " 'EM jadiaza@ucatolica.edu.co; arojas@ucatolica.edu.co\\n',\n",
       " 'OI Diaz, Jorge-Aurelio/0000-0001-8576-0815\\n',\n",
       " 'TC 0\\n',\n",
       " 'Z9 0\\n',\n",
       " 'PU UNIV SANTO TOMAS\\n',\n",
       " 'PI BOGOTA\\n',\n",
       " 'PA CRA 9 NRO 51 11, BOGOTA, 00000, COLOMBIA\\n',\n",
       " 'SN 1794-3841\\n',\n",
       " 'EI 2422-409X\\n',\n",
       " 'J9 HALLAZGOS\\n',\n",
       " 'JI Hallazgos\\n',\n",
       " 'PD JAN-JUN\\n',\n",
       " 'PY 2020\\n',\n",
       " 'VL 17\\n',\n",
       " 'IS 33\\n',\n",
       " 'BP 81\\n',\n",
       " 'EP 102\\n',\n",
       " 'DI 10.15332/2422409X.5209\\n',\n",
       " 'PG 22\\n',\n",
       " 'WC Area Studies\\n',\n",
       " 'SC Area Studies\\n',\n",
       " 'GA OR6PV\\n',\n",
       " 'UT WOS:000589591600004\\n',\n",
       " 'OA gold\\n',\n",
       " 'DA 2022-02-17\\n',\n",
       " 'ER\\n',\n",
       " '\\n',\n",
       " 'PT J\\n',\n",
       " 'AU Rivas, AMM\\n',\n",
       " 'AF Moreno Rivas, Alvaro Martin\\n',\n",
       " 'TI FINANCIALISATION IN LATIN AMERICA. CHALLENGES OF THE EXPORT-LED GROWTH\\n',\n",
       " '   MODEL\\n',\n",
       " 'SO CUADERNOS DE ECONOMIA\\n',\n",
       " 'LA Spanish\\n',\n",
       " 'DT Book Review\\n',\n",
       " 'C1 [Moreno Rivas, Alvaro Martin] Univ Nacl Colombia, Bogota, Colombia.\\n',\n",
       " '   [Moreno Rivas, Alvaro Martin] Univ Externado Colombia, Bogota, Colombia.\\n',\n",
       " 'C3 Universidad Nacional de Colombia; University Externado Colombia\\n',\n",
       " 'RP Rivas, AMM (corresponding author), Univ Nacl Colombia, Bogota, Colombia.; Rivas, AMM (corresponding author), Univ Externado Colombia, Bogota, Colombia.\\n',\n",
       " 'TC 0\\n',\n",
       " 'Z9 0\\n',\n",
       " 'PU UNIV NAC COLOMBIA, FAC CIENCIAS ECONOMICAS, CUADERNOS ECONOMIA\\n',\n",
       " 'PI BOGOTA\\n',\n",
       " 'PA CARRERA 30 N 45-03., EDIFICIO 310, OFICINA 115, BOGOTA, 055051, COLOMBIA\\n',\n",
       " 'SN 0121-4772\\n',\n",
       " 'EI 2248-4337\\n',\n",
       " 'J9 CUAD ECON-BOGOTA\\n',\n",
       " 'JI Cuad. Econ.\\n',\n",
       " 'PD JUL-DEC\\n',\n",
       " 'PY 2019\\n',\n",
       " 'VL 38\\n',\n",
       " 'IS 77\\n',\n",
       " 'BP 663\\n',\n",
       " 'EP 669\\n',\n",
       " 'PG 7\\n',\n",
       " 'WC Economics\\n',\n",
       " 'SC Business & Economics\\n',\n",
       " 'GA IY8ET\\n',\n",
       " 'UT WOS:000486627600013\\n',\n",
       " 'DA 2022-02-17\\n',\n",
       " 'ER']"
      ]
     },
     "execution_count": 5,
     "metadata": {},
     "output_type": "execute_result"
    }
   ],
   "source": [
    "lines"
   ]
  },
  {
   "cell_type": "code",
   "execution_count": 96,
   "id": "fba33086",
   "metadata": {},
   "outputs": [],
   "source": [
    "data = []\n",
    "row_data = {}"
   ]
  },
  {
   "cell_type": "code",
   "execution_count": 97,
   "id": "84debf39",
   "metadata": {},
   "outputs": [],
   "source": [
    "for line in lines:\n",
    "    line = line.strip()\n",
    "    if line.startswith(\"PT\"):\n",
    "        if row_data:\n",
    "            data.append(row_data)\n",
    "        row_data = {}\n",
    "    elif line.startswith(\"ER\") or line.startswith(\" \"):\n",
    "        continue\n",
    "    else:\n",
    "        #print(line)\n",
    "        if len(line.split(\" \", 1)) == 2:\n",
    "            column, value = line.split(' ', 1)\n",
    "            row_data[column] = value\n",
    "data.append(row_data)"
   ]
  },
  {
   "cell_type": "code",
   "execution_count": 98,
   "id": "d1f97852",
   "metadata": {},
   "outputs": [
    {
     "data": {
      "text/plain": [
       "{'AU': 'Rivas, AMM',\n",
       " 'AF': 'Moreno Rivas, Alvaro Martin',\n",
       " 'TI': 'FINANCIALISATION IN LATIN AMERICA. CHALLENGES OF THE EXPORT-LED GROWTH',\n",
       " 'SO': 'CUADERNOS DE ECONOMIA',\n",
       " 'LA': 'Spanish',\n",
       " 'DT': 'Book Review',\n",
       " 'C1': '[Moreno Rivas, Alvaro Martin] Univ Nacl Colombia, Bogota, Colombia.',\n",
       " '[Moreno': 'Rivas, Alvaro Martin] Univ Externado Colombia, Bogota, Colombia.',\n",
       " 'C3': 'Universidad Nacional de Colombia; University Externado Colombia',\n",
       " 'RP': 'Rivas, AMM (corresponding author), Univ Nacl Colombia, Bogota, Colombia.; Rivas, AMM (corresponding author), Univ Externado Colombia, Bogota, Colombia.',\n",
       " 'TC': '0',\n",
       " 'Z9': '0',\n",
       " 'PU': 'UNIV NAC COLOMBIA, FAC CIENCIAS ECONOMICAS, CUADERNOS ECONOMIA',\n",
       " 'PI': 'BOGOTA',\n",
       " 'PA': 'CARRERA 30 N 45-03., EDIFICIO 310, OFICINA 115, BOGOTA, 055051, COLOMBIA',\n",
       " 'SN': '0121-4772',\n",
       " 'EI': '2248-4337',\n",
       " 'J9': 'CUAD ECON-BOGOTA',\n",
       " 'JI': 'Cuad. Econ.',\n",
       " 'PD': 'JUL-DEC',\n",
       " 'PY': '2019',\n",
       " 'VL': '38',\n",
       " 'IS': '77',\n",
       " 'BP': '663',\n",
       " 'EP': '669',\n",
       " 'PG': '7',\n",
       " 'WC': 'Economics',\n",
       " 'SC': 'Business & Economics',\n",
       " 'GA': 'IY8ET',\n",
       " 'UT': 'WOS:000486627600013',\n",
       " 'DA': '2022-02-17'}"
      ]
     },
     "execution_count": 98,
     "metadata": {},
     "output_type": "execute_result"
    }
   ],
   "source": [
    "row_data"
   ]
  },
  {
   "cell_type": "code",
   "execution_count": 102,
   "id": "c2badb8e",
   "metadata": {},
   "outputs": [
    {
     "data": {
      "text/plain": [
       "{'AU': 'Rivas, AMM',\n",
       " 'AF': 'Moreno Rivas, Alvaro Martin',\n",
       " 'TI': 'FINANCIALISATION IN LATIN AMERICA. CHALLENGES OF THE EXPORT-LED GROWTH',\n",
       " 'SO': 'CUADERNOS DE ECONOMIA',\n",
       " 'LA': 'Spanish',\n",
       " 'DT': 'Book Review',\n",
       " 'C1': '[Moreno Rivas, Alvaro Martin] Univ Nacl Colombia, Bogota, Colombia.',\n",
       " '[Moreno': 'Rivas, Alvaro Martin] Univ Externado Colombia, Bogota, Colombia.',\n",
       " 'C3': 'Universidad Nacional de Colombia; University Externado Colombia',\n",
       " 'RP': 'Rivas, AMM (corresponding author), Univ Nacl Colombia, Bogota, Colombia.; Rivas, AMM (corresponding author), Univ Externado Colombia, Bogota, Colombia.',\n",
       " 'TC': '0',\n",
       " 'Z9': '0',\n",
       " 'PU': 'UNIV NAC COLOMBIA, FAC CIENCIAS ECONOMICAS, CUADERNOS ECONOMIA',\n",
       " 'PI': 'BOGOTA',\n",
       " 'PA': 'CARRERA 30 N 45-03., EDIFICIO 310, OFICINA 115, BOGOTA, 055051, COLOMBIA',\n",
       " 'SN': '0121-4772',\n",
       " 'EI': '2248-4337',\n",
       " 'J9': 'CUAD ECON-BOGOTA',\n",
       " 'JI': 'Cuad. Econ.',\n",
       " 'PD': 'JUL-DEC',\n",
       " 'PY': '2019',\n",
       " 'VL': '38',\n",
       " 'IS': '77',\n",
       " 'BP': '663',\n",
       " 'EP': '669',\n",
       " 'PG': '7',\n",
       " 'WC': 'Economics',\n",
       " 'SC': 'Business & Economics',\n",
       " 'GA': 'IY8ET',\n",
       " 'UT': 'WOS:000486627600013',\n",
       " 'DA': '2022-02-17'}"
      ]
     },
     "execution_count": 102,
     "metadata": {},
     "output_type": "execute_result"
    }
   ],
   "source": [
    "data[2]"
   ]
  }
 ],
 "metadata": {
  "kernelspec": {
   "display_name": "Python 3 (ipykernel)",
   "language": "python",
   "name": "python3"
  },
  "language_info": {
   "codemirror_mode": {
    "name": "ipython",
    "version": 3
   },
   "file_extension": ".py",
   "mimetype": "text/x-python",
   "name": "python",
   "nbconvert_exporter": "python",
   "pygments_lexer": "ipython3",
   "version": "3.9.7"
  }
 },
 "nbformat": 4,
 "nbformat_minor": 5
}
