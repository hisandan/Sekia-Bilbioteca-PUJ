{
 "cells": [
  {
   "cell_type": "markdown",
   "metadata": {},
   "source": [
    "# Reducir tamaño de bases de datos\n",
    "Permite generar una copia reducida de nuestros datos para poderlos analizar y visualizar más fácilmente"
   ]
  },
  {
   "cell_type": "code",
   "execution_count": 2,
   "metadata": {},
   "outputs": [],
   "source": [
    "def copiar_lineas(input_filename, output_filename, num_lineas):\n",
    "    try:\n",
    "        with open(input_filename, 'r') as archivo_entrada:\n",
    "            lineas = archivo_entrada.readlines()\n",
    "\n",
    "            # Limitar el número de líneas a copiar\n",
    "            lineas_copiadas = lineas[:num_lineas]\n",
    "\n",
    "            # Escribir las líneas copiadas en el archivo de salida\n",
    "            with open(output_filename, 'w') as archivo_salida:\n",
    "                archivo_salida.writelines(lineas_copiadas)\n",
    "            \n",
    "        print(f\"Se copiaron las primeras {num_lineas} líneas en '{output_filename}'.\")\n",
    "    except FileNotFoundError:\n",
    "        print(\"El archivo de entrada no fue encontrado.\")\n",
    "    except Exception as e:\n",
    "        print(f\"Ocurrió un error: {e}\")\n",
    "\n",
    "# # Uso de la función para copiar las primeras 10 líneas\n",
    "# copiar_lineas(\"input.txt\", \"output.txt\", 10)\n"
   ]
  },
  {
   "cell_type": "markdown",
   "metadata": {},
   "source": [
    "## Minimizar DATACOL.txt"
   ]
  },
  {
   "cell_type": "code",
   "execution_count": 11,
   "metadata": {},
   "outputs": [
    {
     "name": "stdout",
     "output_type": "stream",
     "text": [
      "Se copiaron las primeras 10000 líneas en '../Datos/Versión Minimizada/DATACOL.txt'.\n"
     ]
    }
   ],
   "source": [
    "input_filename = \"../Datos/Completos/DATACOL.txt\"\n",
    "output_filename = \"../Datos/Versión Minimizada/DATACOL.txt\"\n",
    "num_lineas = 10000\n",
    "copiar_lineas(input_filename, output_filename, num_lineas)"
   ]
  },
  {
   "cell_type": "markdown",
   "metadata": {},
   "source": [
    "## Minimizar AutoresColombia.txt"
   ]
  },
  {
   "cell_type": "code",
   "execution_count": 12,
   "metadata": {},
   "outputs": [
    {
     "name": "stdout",
     "output_type": "stream",
     "text": [
      "Se copiaron las primeras 10000 líneas en '../Datos/Versión Minimizada/AutoresColombia.txt'.\n"
     ]
    }
   ],
   "source": [
    "input_filename = \"../Datos/Completos/AutoresColombia.txt\"\n",
    "output_filename = \"../Datos/Versión Minimizada/AutoresColombia.txt\"\n",
    "num_lineas = 10000\n",
    "copiar_lineas(input_filename, output_filename, num_lineas)"
   ]
  },
  {
   "cell_type": "markdown",
   "metadata": {},
   "source": [
    "## Minimizar af_Colombia.dbf\n",
    "\n",
    "También se convertirán los datos de .dbf a .csv para mejor previsualización"
   ]
  },
  {
   "cell_type": "code",
   "execution_count": 8,
   "metadata": {},
   "outputs": [
    {
     "name": "stdout",
     "output_type": "stream",
     "text": [
      "Requirement already satisfied: dbfread in /opt/python/3.10.8/lib/python3.10/site-packages (2.0.7)\n",
      "\n",
      "\u001b[1m[\u001b[0m\u001b[34;49mnotice\u001b[0m\u001b[1;39;49m]\u001b[0m\u001b[39;49m A new release of pip is available: \u001b[0m\u001b[31;49m23.1.2\u001b[0m\u001b[39;49m -> \u001b[0m\u001b[32;49m23.2.1\u001b[0m\n",
      "\u001b[1m[\u001b[0m\u001b[34;49mnotice\u001b[0m\u001b[1;39;49m]\u001b[0m\u001b[39;49m To update, run: \u001b[0m\u001b[32;49mpython -m pip install --upgrade pip\u001b[0m\n"
     ]
    }
   ],
   "source": [
    "!pip install dbfread"
   ]
  },
  {
   "cell_type": "code",
   "execution_count": 9,
   "metadata": {},
   "outputs": [],
   "source": [
    "from dbfread import DBF\n",
    "import pandas as pd\n",
    "\n",
    "dbf_file = DBF('../Datos/Completos/af_Colombia.dbf') \n",
    "af_Colombia_df = pd.DataFrame(dbf_file)"
   ]
  },
  {
   "cell_type": "code",
   "execution_count": 14,
   "metadata": {},
   "outputs": [],
   "source": [
    "af_Colombia_df[:10000].to_csv(\"../Datos/Versión Minimizada/af_Colombia.csv\", index=False)  "
   ]
  },
  {
   "cell_type": "code",
   "execution_count": null,
   "metadata": {},
   "outputs": [],
   "source": []
  }
 ],
 "metadata": {
  "kernelspec": {
   "display_name": "Python 3",
   "language": "python",
   "name": "python3"
  },
  "language_info": {
   "codemirror_mode": {
    "name": "ipython",
    "version": 3
   },
   "file_extension": ".py",
   "mimetype": "text/x-python",
   "name": "python",
   "nbconvert_exporter": "python",
   "pygments_lexer": "ipython3",
   "version": "3.10.8"
  },
  "orig_nbformat": 4
 },
 "nbformat": 4,
 "nbformat_minor": 2
}
